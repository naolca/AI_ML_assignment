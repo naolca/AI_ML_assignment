{
 "cells": [
  {
   "attachments": {},
   "cell_type": "markdown",
   "metadata": {},
   "source": [
    "# Naive Bayes Implementaion on MNIST dataset\n",
    "\n",
    "Here is the process\n",
    "1. Data processing \n",
    "2. Feature extraction\n",
    "3. Training with Naive Bayes classification algorithm\n",
    "4. Testing \n",
    "5. showing result"
   ]
  },
  {
   "cell_type": "code",
   "execution_count": 20,
   "metadata": {},
   "outputs": [
    {
     "name": "stdout",
     "output_type": "stream",
     "text": [
      "(48000, 28, 28) (48000,)\n"
     ]
    }
   ],
   "source": [
    "import numpy as np\n",
    "from collections import Counter,defaultdict\n",
    "import pandas as pd\n",
    "import matplotlib.pyplot as plt\n",
    "from skimage.feature import hog\n",
    "from skimage import data, exposure\n",
    "\n",
    "file_path = \"..\\\\train-images-idx3-ubyte\\\\train-images.idx3-ubyte\"\n",
    "file_path2 = \"..\\\\train-labels-idx1-ubyte\\\\train-labels.idx1-ubyte\"\n",
    "with open(file_path, 'rb') as file:\n",
    "    data = file.read()\n",
    "with open(file_path2, 'rb') as file:\n",
    "    data_label = file.read()\n",
    "\n",
    "# Extract the header information\n",
    "magic_number = int.from_bytes(data[:4], 'big')\n",
    "num_images = int.from_bytes(data[4:8], 'big')\n",
    "num_rows = int.from_bytes(data[8:12], 'big')\n",
    "num_cols = int.from_bytes(data[12:16], 'big')\n",
    "\n",
    "# Extract the image data\n",
    "images = np.frombuffer(data[16:], dtype=np.uint8)\n",
    "images = images.reshape(num_images, num_rows, num_cols)\n",
    "\n",
    "#extracting the labels\n",
    "labels = np.frombuffer(data_label[8:],dtype=np.uint8)\n",
    "\n",
    "\n",
    "image_train = images[:int(0.8*len(images))]\n",
    "image_test = images[int(0.8*len(images)):]\n",
    "\n",
    "labels_train = labels[:int(0.8*len(images))]\n",
    "labels_test = labels[int(0.8*len(images)):]\n",
    "\n",
    "\n",
    "# print(images.shape, labels.shape)"
   ]
  },
  {
   "attachments": {},
   "cell_type": "markdown",
   "metadata": {},
   "source": [
    "# Featurizing...\n",
    "1 Raw pixel intensities"
   ]
  },
  {
   "cell_type": "code",
   "execution_count": 21,
   "metadata": {},
   "outputs": [],
   "source": [
    "\n",
    "def feature1():\n",
    "    pixels = image_train.shape[1] * image_train.shape[2]\n",
    "    fl_ima_train = image_train.reshape(image_train.shape[0],pixels)\n",
    "    f1_ima_test = image_test.reshape(image_test.shape[0],pixels)\n",
    "    return fl_ima_train/255.0, f1_ima_test/255.0\n",
    "\n",
    "# f1,f2 = feature1()\n",
    "# f1.shape"
   ]
  },
  {
   "attachments": {},
   "cell_type": "markdown",
   "metadata": {},
   "source": [
    "2. Histogram of Oriented Gradients (HOG)"
   ]
  },
  {
   "cell_type": "code",
   "execution_count": 22,
   "metadata": {},
   "outputs": [],
   "source": [
    "def feature2():\n",
    "    hog_features_train = []\n",
    "    for image in image_train:\n",
    "        # Compute HOG features\n",
    "        # hog()\n",
    "        fd, hog_image = hog(image, orientations=9, pixels_per_cell=(8, 8),\n",
    "                            cells_per_block=(2, 2), visualize=True)\n",
    "        hog_features_train.append(fd)\n",
    "\n",
    "    hog_features_test = []\n",
    "    for image in image_test:\n",
    "        # Compute HOG features\n",
    "        fd, hog_image = hog(image, orientations=9, pixels_per_cell=(8, 8),\n",
    "                            cells_per_block=(2, 2), visualize=True)\n",
    "        hog_features_test.append(fd)\n",
    "\n",
    "    # Convert the HOG feature lists to arrays\n",
    "    hog_features_train = np.array(hog_features_train)\n",
    "    hog_features_test = np.array(hog_features_test)\n",
    "    return  hog_features_train,hog_features_test\n",
    "\n"
   ]
  },
  {
   "attachments": {},
   "cell_type": "markdown",
   "metadata": {},
   "source": [
    "# Naive Bayes"
   ]
  },
  {
   "cell_type": "code",
   "execution_count": 24,
   "metadata": {},
   "outputs": [],
   "source": [
    "# Naive Bayes implementaion\n",
    "def prior():\n",
    "    p = Counter(labels_train)\n",
    "    prior_dict = defaultdict()\n",
    "    for i in p:\n",
    "        prior_dict[i] = p[i]/len(labels_train)\n",
    "    return prior_dict\n",
    "\n",
    "\n",
    "def train(laplace_smoothing):\n",
    "\n",
    "    image_train = feature1()[0]\n",
    "    c = Counter(labels_train)\n",
    "    train_dict = {j:np.array([laplace_smoothing]*image_train.shape[1]) for j in c}\n",
    "\n",
    "    \n",
    "    # print(train_dict)\n",
    "\n",
    "    for i in range(len(image_train)):\n",
    "        label = labels_train[i]\n",
    "        # updating train_dict by label\n",
    "        train_dict[label] = [x + y for x,y in zip(train_dict[label],image_train[i])]\n",
    "\n",
    "    # print(train_dict)\n",
    "    for i in train_dict:\n",
    "        train_dict[i] = np.array([np.log(n/c[i]) for n in train_dict[i]])\n",
    "\n",
    "    \n",
    "    return train_dict\n",
    "\n",
    "# prior()\n",
    "# train()"
   ]
  },
  {
   "attachments": {},
   "cell_type": "markdown",
   "metadata": {},
   "source": [
    "# Testing"
   ]
  },
  {
   "cell_type": "code",
   "execution_count": 25,
   "metadata": {},
   "outputs": [
    {
     "data": {
      "text/plain": [
       "0.70675"
      ]
     },
     "execution_count": 25,
     "metadata": {},
     "output_type": "execute_result"
    }
   ],
   "source": [
    "model = train(0.0000000000001)\n",
    "prior = prior()\n",
    "def test(model):\n",
    "    # Prepare the test data\n",
    "    image_test = feature1()[1]\n",
    "    # labels_test = labels_test\n",
    "\n",
    "    # Predict the labels\n",
    "    predictions = []\n",
    "    for i in range(len(image_test)):\n",
    "        label_probs = {}\n",
    "        for label in model:\n",
    "            label_probs[label] = np.sum((model[label] * image_test[i])) + prior[label]\n",
    "        predicted_label = max(label_probs, key=label_probs.get)\n",
    "        predictions.append(predicted_label)\n",
    "\n",
    "    # Evaluate the performance\n",
    "    accuracy = np.mean(np.array(predictions) == labels_test)\n",
    "\n",
    "    return accuracy\n",
    "test(model)\n"
   ]
  },
  {
   "attachments": {},
   "cell_type": "markdown",
   "metadata": {},
   "source": [
    "# Data representation"
   ]
  },
  {
   "cell_type": "code",
   "execution_count": 26,
   "metadata": {},
   "outputs": [
    {
     "data": {
      "text/html": [
       "<div>\n",
       "<style scoped>\n",
       "    .dataframe tbody tr th:only-of-type {\n",
       "        vertical-align: middle;\n",
       "    }\n",
       "\n",
       "    .dataframe tbody tr th {\n",
       "        vertical-align: top;\n",
       "    }\n",
       "\n",
       "    .dataframe thead th {\n",
       "        text-align: right;\n",
       "    }\n",
       "</style>\n",
       "<table border=\"1\" class=\"dataframe\">\n",
       "  <thead>\n",
       "    <tr style=\"text-align: right;\">\n",
       "      <th></th>\n",
       "      <th>Laplace Smoothing</th>\n",
       "      <th>Accuracy</th>\n",
       "    </tr>\n",
       "  </thead>\n",
       "  <tbody>\n",
       "    <tr>\n",
       "      <th>0</th>\n",
       "      <td>1.000000e+00</td>\n",
       "      <td>0.703833</td>\n",
       "    </tr>\n",
       "    <tr>\n",
       "      <th>1</th>\n",
       "      <td>5.000000e-01</td>\n",
       "      <td>0.704250</td>\n",
       "    </tr>\n",
       "    <tr>\n",
       "      <th>2</th>\n",
       "      <td>2.000000e-01</td>\n",
       "      <td>0.704667</td>\n",
       "    </tr>\n",
       "    <tr>\n",
       "      <th>3</th>\n",
       "      <td>1.000000e-04</td>\n",
       "      <td>0.705750</td>\n",
       "    </tr>\n",
       "    <tr>\n",
       "      <th>4</th>\n",
       "      <td>1.000000e-07</td>\n",
       "      <td>0.706417</td>\n",
       "    </tr>\n",
       "  </tbody>\n",
       "</table>\n",
       "</div>"
      ],
      "text/plain": [
       "   Laplace Smoothing  Accuracy\n",
       "0       1.000000e+00  0.703833\n",
       "1       5.000000e-01  0.704250\n",
       "2       2.000000e-01  0.704667\n",
       "3       1.000000e-04  0.705750\n",
       "4       1.000000e-07  0.706417"
      ]
     },
     "execution_count": 26,
     "metadata": {},
     "output_type": "execute_result"
    }
   ],
   "source": [
    "dataS = {\n",
    "    'Laplace Smoothing': [1,0.5,0.2,0.0001,0.0000001],\n",
    "    'Accuracy': [0.7038333333333333,0.70425,0.7046666666666667,0.70575,0.7064166666666667],\n",
    "\n",
    "} ## data collected by experimenting with different laplace smoothings...\n",
    "df = pd.DataFrame(dataS)\n",
    "df"
   ]
  },
  {
   "cell_type": "code",
   "execution_count": 30,
   "metadata": {},
   "outputs": [
    {
     "data": {
      "image/png": "[encoded data removed]",
      "text/plain": [
       "<Figure size 640x480 with 1 Axes>"
      ]
     },
     "metadata": {},
     "output_type": "display_data"
    }
   ],
   "source": [
    "plt.plot(dataS['Laplace Smoothing'],dataS['Accuracy'])\n",
    "plt.title(\"Accuracy againist Laplace smoothing\")\n",
    "plt.xlabel(\"Laplace Smoothing\")\n",
    "plt.ylabel(\"Accuracy\")\n",
    "plt.show()   "
   ]
  }
 ],
 "metadata": {
  "kernelspec": {
   "display_name": "exhaustivePip",
   "language": "python",
   "name": "python3"
  },
  "language_info": {
   "codemirror_mode": {
    "name": "ipython",
    "version": 3
   },
   "file_extension": ".py",
   "mimetype": "text/x-python",
   "name": "python",
   "nbconvert_exporter": "python",
   "pygments_lexer": "ipython3",
   "version": "3.11.0"
  },
  "orig_nbformat": 4
 },
 "nbformat": 4,
 "nbformat_minor": 2
}
