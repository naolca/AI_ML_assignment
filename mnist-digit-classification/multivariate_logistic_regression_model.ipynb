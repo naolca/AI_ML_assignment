{
 "cells": [
  {
   "attachments": {},
   "cell_type": "markdown",
   "metadata": {},
   "source": [
    "# Multivariate Logistic Regression\n",
    "One-vs-All Logistic Regression, also known as One-vs-Rest Logistic Regression, is a technique used for multivariate logistic regression where there are more than two classes to be predicted. It extends the concept of logistic regression from binary classification to multiclass classification.\n",
    "\n",
    "In multivariate logistic regression, the goal is to predict the probability of each class label based on a set of input features. However, logistic regression models are inherently designed for binary classification, where they estimate the probability of one class relative to the other.\n",
    "\n",
    "The process of this will be as follows:\n",
    "1. Implement logistic regression for 2 classes\n",
    "2. Implement multivariate logistic regression by extending the logistic regression\n",
    "3. Prepare the dataset\n",
    "4. Train the model\n",
    "5. Test the model\n",
    "6. If possible, improve accuracy\n",
    "\n",
    "First of all, though, we will define our data types that will be used trough out this solution."
   ]
  },
  {
   "cell_type": "code",
   "execution_count": 2,
   "metadata": {},
   "outputs": [],
   "source": [
    "from typing import Callable, List, Tuple\n",
    "import numpy as np\n",
    "\n",
    "Feature = float\n",
    "FeatureVector = List[Feature]\n",
    "Dataset = List[FeatureVector]\n",
    "\n",
    "Label = int\n",
    "Labels = List[Label]\n",
    "\n",
    "LearningRate = float\n",
    "Epoch = int\n",
    "\n",
    "FeatureExtractor = Callable"
   ]
  },
  {
   "attachments": {},
   "cell_type": "markdown",
   "metadata": {},
   "source": [
    "## Step 1: Logistic Regression\n",
    "\n",
    "The general case will consist of a dataset of `m` points and `n` features. Thus, the model has `m`\n",
    "weights (think of them as the generalization of the slope) and one bias. The notation follows:\n",
    "- The data points are `x`<sup>(`1`)</sup>, `x`<sup>(`2`)</sup>, … , `x`<sup>(`m`)</sup>. Each point is of the for`m` `x`<sup>(`i`)</sup> = (`x`<sub>`1`</sub><sup>(`i`)</sup>, `x`<sub>`2`</sub><sup>(`i`)</sup>, … , `x`<sub>`n`</sub><sup>(`i`)</sup>).\n",
    "- The corresponding labels are `y`<sub>`1`</sub>, `y`<sub>`2`</sub>, … , `y`<sub>`m`</sub>.\n",
    "- The weights of the model are `w`<sub>`1`</sub>, `w`<sub>`2`</sub>, … , `w`<sub>`m`</sub>.\n",
    "- The bias of the model is `b`.\n",
    "\n",
    "They combine in the formula:\n",
    "\n",
    "y = w<sub>1</sub>x<sup>(1)</sup> + w<sub>2</sub>x<sup>(2)</sup> + … + w<sub>m</sub>x<sup>(m)</sup> + b,\n",
    "\n",
    "And `y` can be any one of the various classes `y`<sub>`1`</sub>, `y`<sub>`2`</sub>, … , `y`<sub>`m`</sub>.\n",
    "\n",
    "The plan here is to be able to guess each `w`<sub>`i`</sub> and `b` so that once given the `x`s the model can predict the value of `y`. and the plan is as follows:\n",
    "- Randomly generate `w`<sub>`i`</sub> and `b`\n",
    "- Iteratively improve the `w`<sub>`i`</sub> and `b` so that they are closer to the datapoints\n",
    "- Return the final formula (slope and intercept)"
   ]
  },
  {
   "cell_type": "code",
   "execution_count": 3,
   "metadata": {},
   "outputs": [],
   "source": [
    "class LogisticRegression:\n",
    "    def __init__(self, dataset: Dataset, labels: Labels, learning_rate: LearningRate, epochs: Epoch) -> None:\n",
    "        self.dataset = dataset\n",
    "        self.labels = labels\n",
    "        self.learning_rate = learning_rate\n",
    "        self.epochs = epochs\n",
    "\n",
    "    def train(self) -> Tuple[List[float], float]:\n",
    "        weights = np.random.random(len(self.dataset[0]))\n",
    "        bias = np.random.random()\n",
    "\n",
    "        for _ in range(self.epochs):\n",
    "            index = np.random.randint(0, len(self.dataset) - 1)\n",
    "            feature = self.dataset[index]\n",
    "            label = self.labels[index]\n",
    "\n",
    "            weights, bias = self._logistic_loss(weights, bias, feature, label)\n",
    "\n",
    "        return weights, bias\n",
    "\n",
    "    def predict(self, feature: FeatureVector, weights: List[float], bias: float) -> float:\n",
    "        z = np.dot(weights, feature) + bias\n",
    "        return self._sigmoid(z)\n",
    "\n",
    "    def _logistic_loss(self, weights: List[float], bias: float, feature: FeatureVector, label: Label) -> Tuple[List[float], float]:\n",
    "        predicted = self.predict(feature, weights, bias)\n",
    "        error = predicted - label\n",
    "\n",
    "        weights = [w - (self.learning_rate * error * f) for w, f in zip(weights, feature)]\n",
    "        bias = bias - (self.learning_rate * error)\n",
    "\n",
    "        return weights, bias\n",
    "\n",
    "    def _sigmoid(self, z: float) -> float:\n",
    "        return 1 / (1 + np.exp(-z))\n"
   ]
  },
  {
   "attachments": {},
   "cell_type": "markdown",
   "metadata": {},
   "source": [
    "## Step 2: Multivariate Logistic Regression"
   ]
  },
  {
   "cell_type": "code",
   "execution_count": 4,
   "metadata": {},
   "outputs": [],
   "source": [
    "class MulticlassLogisticRegression:\n",
    "    def __init__(self, dataset: Dataset, labels: Labels, learning_rate: LearningRate, epochs: Epoch, feature_extractor: FeatureExtractor) -> None:\n",
    "        self.dataset = dataset\n",
    "        self.labels = labels\n",
    "        self.models = {}\n",
    "        self.learning_rate = learning_rate\n",
    "        self.epochs = epochs\n",
    "        self.feature_extractor = feature_extractor\n",
    "\n",
    "        self._train()\n",
    "\n",
    "    def _train(self) -> None:\n",
    "        for label in self.labels:\n",
    "            if label not in self.models:\n",
    "                labels = [1 if x == label else 0 for x in self.labels]\n",
    "                features = self.feature_extractor(self.dataset)\n",
    "                model = LogisticRegression(features, labels, self.learning_rate, self.epochs)\n",
    "                slope, intercept = model.train()\n",
    "                self.models[label] = (model, slope, intercept)\n",
    "\n",
    "\n",
    "    def predict(self, feature_vector: FeatureVector) -> int:\n",
    "        extracted_feature = self.feature_extractor(feature_vector)  # Apply feature extraction\n",
    "        best_score = 0\n",
    "        best_label = None\n",
    "\n",
    "        for label, (model, slope, intercept) in self.models.items():\n",
    "            score = model.predict(extracted_feature, slope, intercept)\n",
    "\n",
    "            if score > best_score:\n",
    "                best_score = score\n",
    "                best_label = label\n",
    "        \n",
    "        return best_label\n",
    "\n"
   ]
  },
  {
   "attachments": {},
   "cell_type": "markdown",
   "metadata": {},
   "source": [
    "## Step 3: Prepare the dataset"
   ]
  },
  {
   "cell_type": "code",
   "execution_count": 5,
   "metadata": {},
   "outputs": [],
   "source": [
    "from mnist import MNIST\n",
    "\n",
    "mndata = MNIST('./dataset')\n",
    "mndata.gz = True\n",
    "training_images, training_labels = mndata.load_training()\n",
    "test_images, test_labels = mndata.load_testing()"
   ]
  },
  {
   "attachments": {},
   "cell_type": "markdown",
   "metadata": {},
   "source": [
    "## Step 4 & 5: Train the model and test it using different hyperparameters"
   ]
  },
  {
   "cell_type": "code",
   "execution_count": 6,
   "metadata": {},
   "outputs": [],
   "source": [
    "def accuracy(model, images, labels, feature_extractor):\n",
    "    correct = 0\n",
    "    images = feature_extractor(images)\n",
    "    for image, label in zip(images, labels):\n",
    "        predicted = model.predict(image)\n",
    "        if predicted == label:\n",
    "            correct += 1\n",
    "    return correct / len(images)"
   ]
  },
  {
   "attachments": {},
   "cell_type": "markdown",
   "metadata": {},
   "source": [
    "### Subroutine: Implement different feature extraction methods.\n",
    "\n",
    "We have chosen three different methods that we will explain now. The methods we chose are Normalization, Binarization and Sobel Edge Detection.\n",
    "\n",
    "#### 1. Normalization:\n",
    "is a common preprocessing step that scales the pixel values to a standardized range, typically between 0 and 1. By normalizing the dataset, you ensure that the input features have a consistent scale, which can help the model converge faster during training and improve its ability to generalize to new data.\n",
    "\n",
    "#### 2. Binarization\n",
    "is a simple thresholding technique that converts the pixel values into binary values based on a specified threshold. This can be useful in scenarios where you want to emphasize the presence or absence of certain features. Binarization can help simplify the data and highlight important patterns or edges, potentially making it easier for the model to learn and recognize relevant image features.\n",
    "\n",
    "#### 3. Sobel edge detection:\n",
    "is a classic image processing technique that enhances the edges in an image by calculating the gradient magnitude. By detecting and emphasizing edges, you provide the model with more prominent and informative features for classification. The Sobel edge detection method can help the model focus on important transitions and contours, which can improve its ability to distinguish between different classes."
   ]
  },
  {
   "cell_type": "code",
   "execution_count": 7,
   "metadata": {},
   "outputs": [],
   "source": [
    "def featurize_normalized_pixel(images):\n",
    "    images = np.array(images) / 255.0\n",
    "\n",
    "    return images"
   ]
  },
  {
   "cell_type": "code",
   "execution_count": 8,
   "metadata": {},
   "outputs": [],
   "source": [
    "def binarize_images(images, threshold=127):\n",
    "    binarized_images = []\n",
    "    for image in images:\n",
    "        binarized_image = np.where(image > threshold, 1.0, 0.0)\n",
    "        binarized_images.append(binarized_image)\n",
    "    \n",
    "    return np.array(binarized_images)"
   ]
  },
  {
   "cell_type": "code",
   "execution_count": 9,
   "metadata": {},
   "outputs": [],
   "source": [
    "from skimage.feature import hog\n",
    "\n",
    "def featurize_hog(images):\n",
    "    # Initialize the HOG descriptor\n",
    "    hog_descriptor = hog(\n",
    "        np.array(images),\n",
    "        orientations=9,\n",
    "        pixels_per_cell=(8, 8),\n",
    "        cells_per_block=(2, 2),\n",
    "        transform_sqrt=True,\n",
    "        block_norm='L2-Hys'\n",
    "    )\n",
    "\n",
    "    # Extract HOG features for the images\n",
    "    features = []\n",
    "    for image in images:\n",
    "        feature = hog_descriptor.compute(image)\n",
    "        features.append(feature)\n",
    "\n",
    "    return np.array(features)"
   ]
  },
  {
   "cell_type": "code",
   "execution_count": 13,
   "metadata": {},
   "outputs": [],
   "source": [
    "feature_extractors = {\n",
    "    # 'binarized_pixel': binarize_images,\n",
    "    'normalized_pixel': featurize_normalized_pixel,\n",
    "    # 'featurize_hog': featurize_hog,\n",
    "}"
   ]
  },
  {
   "cell_type": "code",
   "execution_count": 14,
   "metadata": {},
   "outputs": [],
   "source": [
    "test_images, test_labels = np.array(test_images), np.array(test_labels)\n",
    "# learning_rates = [0.0001, 0.001, 0.01, 0.1, 1.0, 1.5]\n",
    "learning_rates = [0.001, 0.01, 0.1]\n",
    "accuracies = {}\n",
    "\n",
    "# test the different featuer extractors and learning rates\n",
    "for feature_extractor_name, feature_extractor in feature_extractors.items():\n",
    "    accuracies[feature_extractor_name] = []\n",
    "    for learning_rate in learning_rates:\n",
    "        model = MulticlassLogisticRegression(training_images, training_labels, learning_rate, 100, feature_extractor)\n",
    "        print(accuracies)\n",
    "        accuracies[feature_extractor_name].append(accuracy(model, test_images, test_labels, feature_extractor))"
   ]
  },
  {
   "cell_type": "code",
   "execution_count": null,
   "metadata": {},
   "outputs": [
    {
     "data": {
      "image/png": "[encoded data removed]",
      "text/plain": [
       "<Figure size 640x480 with 1 Axes>"
      ]
     },
     "metadata": {},
     "output_type": "display_data"
    },
    {
     "data": {
      "image/png": "[encoded data removed]",
      "text/plain": [
       "<Figure size 640x480 with 1 Axes>"
      ]
     },
     "metadata": {},
     "output_type": "display_data"
    }
   ],
   "source": [
    "import matplotlib.pyplot as plt\n",
    "\n",
    "for feature_extractor_name, accuracy in accuracies.items():\n",
    "    plt.plot(learning_rates, accuracy, label=feature_extractor_name)\n",
    "\n",
    "    plt.xlabel(\"Learning Rate\")\n",
    "    plt.ylabel(\"Accuracy\")\n",
    "    plt.legend()\n",
    "    plt.show()\n"
   ]
  },
  {
   "cell_type": "code",
   "execution_count": null,
   "metadata": {},
   "outputs": [
    {
     "name": "stdout",
     "output_type": "stream",
     "text": [
      "{'Normalization': [0.0957, 0.101, 0.1135], 'Binarization': [0.098, 0.1135, 0.1135]}\n"
     ]
    }
   ],
   "source": [
    "print(accuracies)"
   ]
  }
 ],
 "metadata": {
  "kernelspec": {
   "display_name": "venv",
   "language": "python",
   "name": "python3"
  },
  "language_info": {
   "codemirror_mode": {
    "name": "ipython",
    "version": 3
   },
   "file_extension": ".py",
   "mimetype": "text/x-python",
   "name": "python",
   "nbconvert_exporter": "python",
   "pygments_lexer": "ipython3",
   "version": "3.11.2"
  },
  "orig_nbformat": 4
 },
 "nbformat": 4,
 "nbformat_minor": 2
}
